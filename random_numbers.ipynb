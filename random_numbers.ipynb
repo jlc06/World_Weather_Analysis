{
 "cells": [
  {
   "cell_type": "code",
   "execution_count": 1,
   "id": "87f8f619",
   "metadata": {},
   "outputs": [],
   "source": [
    "# Import the random module.\n",
    "import random"
   ]
  },
  {
   "cell_type": "code",
   "execution_count": 2,
   "id": "0c4fe931",
   "metadata": {},
   "outputs": [
    {
     "data": {
      "text/plain": [
       "52"
      ]
     },
     "execution_count": 2,
     "metadata": {},
     "output_type": "execute_result"
    }
   ],
   "source": [
    "random.randint(-90,90)"
   ]
  },
  {
   "cell_type": "code",
   "execution_count": 3,
   "id": "bcbeb211",
   "metadata": {},
   "outputs": [
    {
     "data": {
      "text/plain": [
       "0.35977688579077927"
      ]
     },
     "execution_count": 3,
     "metadata": {},
     "output_type": "execute_result"
    }
   ],
   "source": [
    "random.random()"
   ]
  },
  {
   "cell_type": "code",
   "execution_count": 4,
   "id": "98a9678a",
   "metadata": {},
   "outputs": [
    {
     "data": {
      "text/plain": [
       "-15.433921808607233"
      ]
     },
     "execution_count": 4,
     "metadata": {},
     "output_type": "execute_result"
    }
   ],
   "source": [
    "random_number = random.randint(-90,89) + random.random()\n",
    "random_number"
   ]
  },
  {
   "cell_type": "code",
   "execution_count": 5,
   "id": "c6fdf6b6",
   "metadata": {},
   "outputs": [
    {
     "data": {
      "text/plain": [
       "[-10.959416414905139,\n",
       " 28.74507317709315,\n",
       " -13.076425859368843,\n",
       " -87.57406137603272,\n",
       " 58.747330155301746,\n",
       " 57.51472219656564,\n",
       " -18.63445570664346,\n",
       " 71.3207253422263,\n",
       " -75.4006978447013,\n",
       " -86.95459759487119]"
      ]
     },
     "execution_count": 5,
     "metadata": {},
     "output_type": "execute_result"
    }
   ],
   "source": [
    "x = 1\n",
    "latitudes = []\n",
    "while x < 11:\n",
    "    random_lat = random.randint(-90,89) + random.random()\n",
    "    latitudes.append(random_lat)\n",
    "    x += 1\n",
    "latitudes"
   ]
  },
  {
   "cell_type": "code",
   "execution_count": 6,
   "id": "d91934c5",
   "metadata": {},
   "outputs": [
    {
     "data": {
      "text/plain": [
       "-39"
      ]
     },
     "execution_count": 6,
     "metadata": {},
     "output_type": "execute_result"
    }
   ],
   "source": [
    "random.randrange(-90,90,step=3)"
   ]
  },
  {
   "cell_type": "code",
   "execution_count": 7,
   "id": "9225cbac",
   "metadata": {},
   "outputs": [
    {
     "data": {
      "text/plain": [
       "-59.91693557717501"
      ]
     },
     "execution_count": 7,
     "metadata": {},
     "output_type": "execute_result"
    }
   ],
   "source": [
    "random.uniform(-90,90)"
   ]
  },
  {
   "cell_type": "code",
   "execution_count": 8,
   "id": "c05bc634",
   "metadata": {},
   "outputs": [],
   "source": [
    "# Import the NumPy module\n",
    "import numpy as np"
   ]
  },
  {
   "cell_type": "code",
   "execution_count": 9,
   "id": "35ac895b",
   "metadata": {},
   "outputs": [
    {
     "data": {
      "text/plain": [
       "31.441468122996866"
      ]
     },
     "execution_count": 9,
     "metadata": {},
     "output_type": "execute_result"
    }
   ],
   "source": [
    "np.random.uniform(-90.000,90.000)"
   ]
  },
  {
   "cell_type": "code",
   "execution_count": 10,
   "id": "2bbe679d",
   "metadata": {},
   "outputs": [
    {
     "data": {
      "text/plain": [
       "array([-5.14407943e+01, -3.20105625e+01, -4.92155734e+01,  2.05024068e+01,\n",
       "        1.86508614e+01, -6.72014148e+01,  6.60074074e+01, -7.31044250e+01,\n",
       "       -4.39109924e+01,  4.99248482e+00, -7.86855417e+01, -1.47948644e+00,\n",
       "        2.00320169e+01,  4.93247949e+01, -2.05938524e+01, -5.37100177e-01,\n",
       "        1.18308579e+00,  3.94439069e+00,  7.98923161e+01,  1.25576897e+01,\n",
       "       -4.10803642e-02,  6.11686501e+01, -1.61589484e+01, -7.77207742e+01,\n",
       "        7.02425952e+01,  6.23084357e+00,  1.03011363e+01, -3.83706853e+01,\n",
       "        1.52124848e+01,  8.62433686e+01,  6.25436607e+01,  5.61611426e+01,\n",
       "        4.94820884e+01,  6.05676717e+01, -5.93781292e+01,  8.65077545e+01,\n",
       "        8.36847773e+01, -3.79937287e+01, -8.59201099e+01, -9.34424856e+00,\n",
       "       -3.44585003e+00, -2.72350431e+01, -1.61528947e+01, -9.10831028e+00,\n",
       "       -4.78679878e+01, -1.49851019e+01, -7.21577248e+00, -2.30059403e+01,\n",
       "       -5.52144687e+00, -7.29293595e+00])"
      ]
     },
     "execution_count": 10,
     "metadata": {},
     "output_type": "execute_result"
    }
   ],
   "source": [
    "np.random.uniform(-90.000,90.000,size=50)"
   ]
  },
  {
   "cell_type": "code",
   "execution_count": 11,
   "id": "dfe8d1f8",
   "metadata": {},
   "outputs": [],
   "source": [
    "# Import timeit\n",
    "import timeit"
   ]
  },
  {
   "cell_type": "code",
   "execution_count": 12,
   "id": "dbd63c1e",
   "metadata": {},
   "outputs": [
    {
     "name": "stdout",
     "output_type": "stream",
     "text": [
      "13 µs ± 216 ns per loop (mean ± std. dev. of 7 runs, 100000 loops each)\n"
     ]
    }
   ],
   "source": [
    "%timeit np.random.uniform(-90.000,90.000,size=1500)"
   ]
  },
  {
   "cell_type": "code",
   "execution_count": 14,
   "id": "b416abcf",
   "metadata": {},
   "outputs": [
    {
     "name": "stdout",
     "output_type": "stream",
     "text": [
      "1.87 ms ± 3.45 µs per loop (mean ± std. dev. of 7 runs, 1000 loops each)\n"
     ]
    }
   ],
   "source": [
    "def latitudes(size):\n",
    "    latitudes = []\n",
    "    amount = np.arange(size)\n",
    "    for x in amount:\n",
    "        random_lat = random.randint(-90,90) + random.random()\n",
    "        latitudes.append(random_lat)\n",
    "# Call the function with 1500\n",
    "%timeit latitudes(1500)"
   ]
  },
  {
   "cell_type": "code",
   "execution_count": null,
   "id": "3c420140",
   "metadata": {},
   "outputs": [],
   "source": []
  }
 ],
 "metadata": {
  "kernelspec": {
   "display_name": "PythonData",
   "language": "python",
   "name": "pythondata"
  },
  "language_info": {
   "codemirror_mode": {
    "name": "ipython",
    "version": 3
   },
   "file_extension": ".py",
   "mimetype": "text/x-python",
   "name": "python",
   "nbconvert_exporter": "python",
   "pygments_lexer": "ipython3",
   "version": "3.7.11"
  }
 },
 "nbformat": 4,
 "nbformat_minor": 5
}
